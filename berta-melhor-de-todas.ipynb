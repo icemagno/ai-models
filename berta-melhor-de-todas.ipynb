{
 "cells": [
  {
   "cell_type": "code",
   "execution_count": 4,
   "id": "4461f2ee-6e39-4ae7-a4b4-472ea164e399",
   "metadata": {},
   "outputs": [
    {
     "name": "stderr",
     "output_type": "stream",
     "text": [
      "2023-06-07 17:03:48.888009: I tensorflow/tsl/cuda/cudart_stub.cc:28] Could not find cuda drivers on your machine, GPU will not be used.\n",
      "2023-06-07 17:03:49.327169: I tensorflow/tsl/cuda/cudart_stub.cc:28] Could not find cuda drivers on your machine, GPU will not be used.\n",
      "2023-06-07 17:03:49.330202: I tensorflow/core/platform/cpu_feature_guard.cc:182] This TensorFlow binary is optimized to use available CPU instructions in performance-critical operations.\n",
      "To enable the following instructions: AVX2 FMA, in other operations, rebuild TensorFlow with the appropriate compiler flags.\n",
      "2023-06-07 17:03:51.195562: W tensorflow/compiler/tf2tensorrt/utils/py_utils.cc:38] TF-TRT Warning: Could not find TensorRT\n"
     ]
    }
   ],
   "source": [
    "from transformers import AutoTokenizer, AutoModelForQuestionAnswering, AutoConfig, DefaultDataCollator\n",
    "import torch\n",
    "\n",
    "tokenizer = AutoTokenizer.from_pretrained(\"timpal0l/mdeberta-v3-base-squad2\")\n",
    "model = AutoModelForQuestionAnswering.from_pretrained(\"timpal0l/mdeberta-v3-base-squad2\", return_dict=False )\n",
    "\n",
    "# Save the model\n",
    "# model.save_pretrained(\"timpal0l/mdeberta-v3-base-squad2\")"
   ]
  },
  {
   "cell_type": "code",
   "execution_count": 21,
   "id": "2d3396a0-fe0b-4191-8990-502fecabe78d",
   "metadata": {},
   "outputs": [],
   "source": [
    "def preprocessamento_texto(texto):\n",
    "    texto_filtrado = \"\\n\".join([ll.rstrip() for ll in texto.splitlines() if ll.strip()])\n",
    "    return texto_filtrado"
   ]
  },
  {
   "cell_type": "code",
   "execution_count": 26,
   "id": "b0cdf893-436b-444f-b704-582cb2e08acf",
   "metadata": {},
   "outputs": [],
   "source": [
    "with open(\"faq-marinha.txt\", 'r', encoding='utf-8') as arquivo:\n",
    "    big_text = preprocessamento_texto( arquivo.read() )\n",
    "   \n",
    "little_text = \"minha gata se chama helena. Ela é gorda e tem manchas pelo corpo.\"\n",
    "\n",
    "question = \"O que é necessário Para ser Mergulhador de Combate?\""
   ]
  },
  {
   "cell_type": "code",
   "execution_count": 27,
   "id": "5804b3cd-e60a-44db-baef-86b44306acf9",
   "metadata": {},
   "outputs": [
    {
     "name": "stdout",
     "output_type": "stream",
     "text": [
      "Question: O que é necessário Para ser Mergulhador de Combate?\n",
      "Answer: convocado incorporado\n",
      "\n"
     ]
    }
   ],
   "source": [
    "inputs = tokenizer.encode_plus(question, big_text, add_special_tokens=False, return_tensors=\"pt\")\n",
    "\n",
    "input_ids = inputs[\"input_ids\"].tolist()[0]\n",
    "\n",
    "text_tokens = tokenizer.convert_ids_to_tokens(input_ids)\n",
    "answer_start_scores, answer_end_scores = model(**inputs)\n",
    "\n",
    "answer_start = torch.argmax(\n",
    "    answer_start_scores\n",
    ")  \n",
    "answer_end = torch.argmax(answer_end_scores) + 1\n",
    "\n",
    "answer = tokenizer.convert_tokens_to_string(tokenizer.convert_ids_to_tokens(input_ids[answer_start:answer_end]))\n",
    "\n",
    "print(f\"Question: {question}\")\n",
    "print(f\"Answer: {answer}\\n\")"
   ]
  },
  {
   "cell_type": "code",
   "execution_count": null,
   "id": "c73068da-f466-4bad-89ec-4496ffa46e6a",
   "metadata": {},
   "outputs": [],
   "source": []
  }
 ],
 "metadata": {
  "kernelspec": {
   "display_name": "Python 3 (ipykernel)",
   "language": "python",
   "name": "python3"
  },
  "language_info": {
   "codemirror_mode": {
    "name": "ipython",
    "version": 3
   },
   "file_extension": ".py",
   "mimetype": "text/x-python",
   "name": "python",
   "nbconvert_exporter": "python",
   "pygments_lexer": "ipython3",
   "version": "3.11.3"
  }
 },
 "nbformat": 4,
 "nbformat_minor": 5
}
