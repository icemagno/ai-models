{
 "cells": [
  {
   "cell_type": "code",
   "execution_count": 2,
   "id": "33ae4bc6-6a5d-402f-93c5-c12a5b5eecb9",
   "metadata": {},
   "outputs": [
    {
     "name": "stdout",
     "output_type": "stream",
     "text": [
      "1/1 [==============================] - 0s 92ms/step\n"
     ]
    },
    {
     "data": {
      "text/plain": [
       "'{\"response\": \"N\\\\u00e3o compreendi a pergunta. Tente especificar melhor.\", \"predictions\": [], \"question\": \"quais?\"}'"
      ]
     },
     "execution_count": 2,
     "metadata": {},
     "output_type": "execute_result"
    }
   ],
   "source": [
    "import nltk\n",
    "import re\n",
    "import pickle\n",
    "import numpy as np\n",
    "from keras.models import load_model\n",
    "import json\n",
    "import random\n",
    "\n",
    "def ajusta_texto( texto ):\n",
    "    texto = texto.lower()\n",
    "    texto = re.sub(r\"[^a-zA-ZÀ-ú\\s]\", \"\", texto)\n",
    "    return texto\n",
    "\n",
    "def load_data():\n",
    "    global model, intents, words, classes\n",
    "    model = load_model('chatbot_model.h5')\n",
    "    intents = json.loads(open('intents.json').read())\n",
    "    words = pickle.load(open('words.pkl','rb'))\n",
    "    classes = pickle.load(open('classes.pkl','rb'))\n",
    "\n",
    "def clean_up_sentence(sentence):\n",
    "    # tokenize the pattern - split words into array\n",
    "    sentence_words = nltk.word_tokenize(sentence)\n",
    "    # stem each word - create short form for word\n",
    "    sentence_words = [ajusta_texto(word) for word in sentence_words]\n",
    "    return sentence_words\n",
    "    \n",
    "# return bag of words array: 0 or 1 for each word in the bag that exists in the sentence\n",
    "def bow(sentence, words, show_details=True):\n",
    "    # tokenize the pattern\n",
    "    sentence_words = clean_up_sentence(sentence)\n",
    "    # bag of words - matrix of N words, vocabulary matrix\n",
    "    bag = [0]*len(words)\n",
    "    for s in sentence_words:\n",
    "        for i,w in enumerate(words):\n",
    "            if w == s: \n",
    "                # assign 1 if current word is in the vocabulary position\n",
    "                bag[i] = 1\n",
    "                if show_details:\n",
    "                    print (\"found in bag: %s\" % w)\n",
    "    return(np.array(bag))\n",
    "    \n",
    "def predict_class(sentence):\n",
    "    global model, intents, words, classes\n",
    "    # filter out predictions below a threshold\n",
    "    p = bow(sentence, words,show_details=False)\n",
    "    res = model.predict(np.array([p]))[0]\n",
    "\n",
    "    # Refinamento da aceitação das respostas prováveis: Padrão = mínimo 70% de probabilidade\n",
    "    ERROR_THRESHOLD = 0.7\n",
    "\n",
    "    results = [[i,r] for i,r in enumerate(res) if r>ERROR_THRESHOLD]\n",
    "    # sort by strength of probability\n",
    "    results.sort(key=lambda x: x[1], reverse=True)\n",
    "    return_list = []\n",
    "    for r in results:\n",
    "        return_list.append({\"intent\": classes[r[0]], \"probability\": str(r[1])})\n",
    "    return return_list\n",
    "    \n",
    "def getResponse(ints):\n",
    "    global intents\n",
    "    tag = ints[0]['intent']\n",
    "    list_of_intents = intents['intents']\n",
    "    for i in list_of_intents:\n",
    "        if(i['tag']== tag):\n",
    "            result = random.choice(i['responses'])\n",
    "            break\n",
    "    return result\n",
    "\n",
    "def chatbot_response(text):\n",
    "    ints = predict_class(text)\n",
    "    res = \"Não compreendi a pergunta. Tente especificar melhor.\"\n",
    "    if len(ints) > 0:\n",
    "        res = getResponse(ints)\n",
    "    response = {'response':res, 'predictions':ints, 'question':text}\n",
    "    return json.dumps(response)\n",
    "\n",
    "load_data()\n",
    "\n",
    "\n",
    "chatbot_response(\"quais?\")\n",
    "    "
   ]
  },
  {
   "cell_type": "code",
   "execution_count": null,
   "id": "f457c646-d306-4f4d-8bb0-d63f13f49a78",
   "metadata": {},
   "outputs": [],
   "source": []
  },
  {
   "cell_type": "code",
   "execution_count": null,
   "id": "6b2637c6-6fd5-4c45-82ce-e5c2ede966fa",
   "metadata": {},
   "outputs": [],
   "source": []
  }
 ],
 "metadata": {
  "kernelspec": {
   "display_name": "Python 3 (ipykernel)",
   "language": "python",
   "name": "python3"
  },
  "language_info": {
   "codemirror_mode": {
    "name": "ipython",
    "version": 3
   },
   "file_extension": ".py",
   "mimetype": "text/x-python",
   "name": "python",
   "nbconvert_exporter": "python",
   "pygments_lexer": "ipython3",
   "version": "3.10.11"
  }
 },
 "nbformat": 4,
 "nbformat_minor": 5
}
